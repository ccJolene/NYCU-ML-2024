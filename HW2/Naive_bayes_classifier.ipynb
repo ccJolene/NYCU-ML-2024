{
 "cells": [
  {
   "cell_type": "code",
   "execution_count": 1,
   "metadata": {},
   "outputs": [],
   "source": [
    "import numpy as np\n",
    "import numba as nb\n",
    "import math"
   ]
  },
  {
   "cell_type": "code",
   "execution_count": 2,
   "metadata": {},
   "outputs": [],
   "source": [
    "def Load_data():\n",
    "    \n",
    "    # Training Data\n",
    "    label_file = open(\"train-labels.idx1-ubyte_\", \"rb\")\n",
    "    image_file = open(\"train-images.idx3-ubyte_\", \"rb\")\n",
    "    \n",
    "    label_file.read(8)\n",
    "    image_file.read(4)\n",
    "    number = int.from_bytes(image_file.read(4), byteorder='big')\n",
    "    row = int.from_bytes(image_file.read(4), byteorder='big')\n",
    "    col = int.from_bytes(image_file.read(4), byteorder='big')\n",
    "    \n",
    "    # Initialze data structure\n",
    "    training_label = np.zeros(number, dtype=int)\n",
    "    training_data = np.zeros((number, row, col), dtype=int)\n",
    "    \n",
    "    # Load training data\n",
    "    for i in range(number):\n",
    "        training_label[i] = label_file.read(1)[0]\n",
    "        for j in range(row):\n",
    "            for k in range(col):\n",
    "                training_data[i][j][k] = image_file.read(1)[0]\n",
    "                \n",
    "    label_file.close()\n",
    "    image_file.close()\n",
    "    \n",
    "    \n",
    "    # Testing Data\n",
    "    label_file = open('t10k-labels.idx1-ubyte_', 'rb')\n",
    "    image_file = open('t10k-images.idx3-ubyte_', 'rb')\n",
    "    \n",
    "    label_file.read(8)\n",
    "    image_file.read(4)\n",
    "    number = int.from_bytes(image_file.read(4), byteorder='big')\n",
    "    row = int.from_bytes(image_file.read(4), byteorder='big')\n",
    "    col = int.from_bytes(image_file.read(4), byteorder='big')\n",
    "    \n",
    "    testing_label = np.zeros(number, dtype=int)\n",
    "    testing_data = np.zeros((number, row, col), dtype=int)\n",
    "    \n",
    "    for i in range(number):\n",
    "        testing_label[i] = label_file.read(1)[0]\n",
    "        for j in range(row):\n",
    "            for k in range(col):\n",
    "                testing_data[i][j][k] = image_file.read(1)[0]\n",
    "                \n",
    "    label_file.close()\n",
    "    image_file.close()\n",
    "    \n",
    "    return training_label, training_data, testing_label, testing_data\n",
    "\n"
   ]
  },
  {
   "cell_type": "code",
   "execution_count": 10,
   "metadata": {},
   "outputs": [
    {
     "name": "stdout",
     "output_type": "stream",
     "text": [
      "Shape of training_label: (60000,)\n",
      "Shape of training_data: (60000, 28, 28)\n",
      "Shape of testing_label: (10000,)\n",
      "Shape of testing_data: (10000, 28, 28)\n"
     ]
    }
   ],
   "source": [
    "training_label, training_data, testing_label, testing_data = Load_data()\n",
    "\n",
    "print('Shape of training_label:', training_label.shape)\n",
    "print('Shape of training_data:', training_data.shape)\n",
    "print('Shape of testing_label:', testing_label.shape) \n",
    "print('Shape of testing_data:', testing_data.shape)"
   ]
  },
  {
   "cell_type": "markdown",
   "metadata": {},
   "source": [
    "$$P(X|C) = \\frac{P(X, C)}{P(C)}$$"
   ]
  },
  {
   "cell_type": "markdown",
   "metadata": {},
   "source": [
    "## Discrete"
   ]
  },
  {
   "cell_type": "code",
   "execution_count": 24,
   "metadata": {},
   "outputs": [],
   "source": [
    "def Discrete(label, data):\n",
    "    ''' \n",
    "    For each digit (0-9), \n",
    "    for every pixel in the image (28 rows and 28 columns), \n",
    "    calculate the conditional probability of that pixel's grayscale value falling into one of the 32 bins.\n",
    "    '''\n",
    "    prior = np.ones(10)\n",
    "    likelihood = np.ones((10, 28, 28, 32))\n",
    "    \n",
    "    # calculate P(X,C)\n",
    "    for i in range(len(label)):\n",
    "        prior[label[i]] += 1\n",
    "        for j in range(28):\n",
    "            for k in range(28):\n",
    "                pixel = data[i][j][k]\n",
    "                likelihood[label[i]][j][k][int(pixel/8)] += 1\n",
    "                \n",
    "    # calculate P(X|C)\n",
    "    for i in range(10):\n",
    "        for j in range(28):\n",
    "            for k in range(28):\n",
    "                for l in range(32):\n",
    "                    likelihood[i][j][k][l] /= prior[i]\n",
    "                    \n",
    "    return prior/len(label), likelihood"
   ]
  },
  {
   "cell_type": "markdown",
   "metadata": {},
   "source": [
    "## Continuous\n",
    "\n",
    "$$\\hat{\\mu} = \\frac{1}{N}\\sum_{i=1}^{N}x_i$$\n",
    "\n",
    "$$\\hat{\\sigma^2} = \\frac{1}{N}\\sum_{i=1}^{N}x_i^2 - (\\frac{1}{N}\\sum_{i=1}^{N}x_i)^2$$"
   ]
  },
  {
   "cell_type": "code",
   "execution_count": 25,
   "metadata": {},
   "outputs": [],
   "source": [
    "def Continuous(labels, data):\n",
    "    ''' \n",
    "    For each digit (0-9), \n",
    "    for every pixel in the image (28 rows and 28 columns), \n",
    "    use MLE to fit a Gaussian distribution for the value of each pixel.\n",
    "    '''\n",
    "    prior = np.ones(10)\n",
    "    likelihood = np.ones((10, 28, 28, 2)) # mean & mean of square\n",
    "    \n",
    "    # calculate P(X,C)\n",
    "    for i in range(len(labels)):\n",
    "        label = labels[i]\n",
    "        for j in range(28):\n",
    "            for k in range(28):\n",
    "                pixel = data[i][j][k]\n",
    "                likelihood[label][j][k][0] = (prior[i]/prior[i]+1 * likelihood[label][j][k][0]) + (1/prior[i]+1 * pixel)\n",
    "                likelihood[label][j][k][1] = (prior[i]/prior[i]+1 * likelihood[label][j][k][1]) + (1/prior[i]+1 * pixel**2)\n",
    "        prior[label] += 1\n",
    "    \n",
    "    # Var(X) = E(X^2) - [E(X)]^2          \n",
    "    for i in range(10):\n",
    "        for j in range(28):\n",
    "            for k in range(28):\n",
    "                    likelihood[i][j][k][1] -=  likelihood[i][j][k][0] ** 2\n",
    "                    \n",
    "    return prior/len(label), likelihood"
   ]
  },
  {
   "cell_type": "markdown",
   "metadata": {},
   "source": [
    "# Test\n",
    "\n",
    "## Discrete:\n",
    "$$\\log P(C|X) = \\log P(C) + \\sum_{i=1}^{28} \\sum_{j=1}^{28} \\log P(x_{ij}|C)$$\n",
    "\n",
    "## Continuous:\n",
    "$$\\log P(C|X) = \\log P(C) + \\sum_{i, j}( -\\frac{1}{2} \\log 2 \\pi \\sigma^2 - \\frac{(x-\\mu)^2}{2 \\sigma^2})$$"
   ]
  },
  {
   "cell_type": "code",
   "execution_count": 30,
   "metadata": {},
   "outputs": [],
   "source": [
    "def Test(mode, labels, data):\n",
    "    err = 0.\n",
    "    \n",
    "    posterior = np.zeros((len(labels), 10))\n",
    "    predictions = np.zeros(len(labels))\n",
    "    answers = np.zeros(len(labels))\n",
    "    \n",
    "    for label_idx in range(len(labels)):\n",
    "        for label in range(10):\n",
    "            posterior[label_idx] += np.log(prior[label])\n",
    "            for i in range(28):\n",
    "                for j in range(28):\n",
    "                    if mode == 0:\n",
    "                        posterior[label_idx][label] += np.log(likelihood[label][i][j][int(data[label_idx][i][j]/8)])\n",
    "                    elif mode == 1:\n",
    "                        mean = likelihood[label][i][j][0]\n",
    "                        var = likelihood[label][i][j][1]\n",
    "                        if var != 0:\n",
    "                            posterior[label_idx][i][j] += -1/2 * np.log(2*np.pi*var) - (data[label_idx][i][j] - mean)**2 / (2*var)\n",
    "        \n",
    "        predictions[label_idx] = np.argmax(posterior[label_idx])\n",
    "        answers[label_idx] = labels[label_idx]\n",
    "        if predictions[label_idx] != answers[label_idx]:\n",
    "            err += 1\n",
    "            \n",
    "    return posterior, predictions, answers, err/len(labels)"
   ]
  },
  {
   "cell_type": "code",
   "execution_count": 32,
   "metadata": {},
   "outputs": [],
   "source": [
    "def printResult(likelihood, posteriors, predictions, answers, error):\n",
    "    result = ''\n",
    "    \n",
    "    for img_idx in range(len(predictions)):\n",
    "        result += 'Postirior (in log scale):\\n'\n",
    "        for label in range(10):\n",
    "            result += f'{label}: {posteriors[img_idx][label] / np.sum(posteriors[img_idx])}\\n'\n",
    "        result += f'Prediction: {predictions[img_idx]}, Ans: {answers[img_idx]} \\n'\n",
    "    \n",
    "    result += 'Imagination of numbers in Bayesian classifier: \\n'\n",
    "    for label in range(10):\n",
    "        result += f'\\n{label}\\n: ' \n",
    "        for i in range(28):\n",
    "            for j in range(28):\n",
    "                if mode == 0:\n",
    "                    classifier_val = np.argmax(likelihood[label][i][j])\n",
    "                    result += f'{int(classifier_val/16)}'\n",
    "                elif mode == 1:\n",
    "                    classifier_val = np.argmax(likelihood[label][i][j][0])\n",
    "                    result += f'{int(classifier_val/128)}'\n",
    "            result += \"\\n\\n\"\n",
    "        \n",
    "    result += f'Error rate: {error}'\n",
    "    \n",
    "    return result\n",
    "    "
   ]
  },
  {
   "cell_type": "code",
   "execution_count": 33,
   "metadata": {},
   "outputs": [
    {
     "name": "stdout",
     "output_type": "stream",
     "text": [
      "Loading...\n",
      "Training...\n",
      "Testing...\n"
     ]
    }
   ],
   "source": [
    "if __name__ == \"__main__\":\n",
    "    mode = int(input(\"Toggle option is (discrete or continuous): \"))\n",
    "\n",
    "    # loading\n",
    "    print(\"Loading...\")\n",
    "    trainingLabel, trainingData, testLabel, testData = Load_data()\n",
    "\n",
    "    # training\n",
    "    print(\"Training...\")\n",
    "    if mode == 0:\n",
    "        prior, likelihood = Discrete(trainingLabel, trainingData)\n",
    "    elif mode == 1:\n",
    "        prior, likelihood = Continuous(trainingLabel, trainingData)\n",
    "\n",
    "    # testing\n",
    "    print(\"Testing...\")\n",
    "    posterior, predections, answers, err = Test(mode, testLabel, testData)\n",
    "\n",
    "    resultFile = open(\"result.txt\", 'w')\n",
    "    resultFile.write(printResult(likelihood, posterior, predections, answers, err))"
   ]
  },
  {
   "cell_type": "code",
   "execution_count": null,
   "metadata": {},
   "outputs": [],
   "source": []
  }
 ],
 "metadata": {
  "kernelspec": {
   "display_name": "MLHW",
   "language": "python",
   "name": "python3"
  },
  "language_info": {
   "codemirror_mode": {
    "name": "ipython",
    "version": 3
   },
   "file_extension": ".py",
   "mimetype": "text/x-python",
   "name": "python",
   "nbconvert_exporter": "python",
   "pygments_lexer": "ipython3",
   "version": "3.12.5"
  }
 },
 "nbformat": 4,
 "nbformat_minor": 2
}
